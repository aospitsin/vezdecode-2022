{
 "cells": [
  {
   "cell_type": "markdown",
   "id": "5f8a6fd3",
   "metadata": {},
   "source": [
    "# Import libraries"
   ]
  },
  {
   "cell_type": "code",
   "execution_count": 1,
   "id": "d87305ee-0591-455e-abfc-616999f4bb35",
   "metadata": {},
   "outputs": [],
   "source": [
    "import cv2 as cv\n",
    "import numpy as np\n",
    "import pandas as pd\n",
    "import os\n",
    "\n",
    "from tqdm.notebook import tqdm\n",
    "from os import path\n",
    "\n",
    "base_path = \"D:\\Vezdecode\\CV\\CV10\""
   ]
  },
  {
   "cell_type": "markdown",
   "id": "da2da877",
   "metadata": {},
   "source": [
    "# Merging color channels"
   ]
  },
  {
   "cell_type": "code",
   "execution_count": 2,
   "id": "c13629fb-921d-4934-bbe6-49de79b0e8c9",
   "metadata": {},
   "outputs": [],
   "source": [
    "def merge_channels(input_dir:str, output_dir:str):\n",
    "    \"\"\"\n",
    "    Docstring:\n",
    "        input_dir — name of the directory containing the dataset\n",
    "        output_dir — name of the directory containing the RGB images\n",
    "    \"\"\"\n",
    "    \n",
    "    files = os.listdir(input_dir) # Reading files from the input directory\n",
    "    indexes = [ind.split(\"_\")[0] for ind in files] # Selection image indexes\n",
    "    \n",
    "    dict_with_channels = {} # Dictionary for storing channels and easy access to them\n",
    "    merged_img = None # Image template for combining channels\n",
    "    for index in tqdm(indexes):\n",
    "        # Reading and filling in the dictionary for one picture with the appropriate channels\n",
    "        for num, color in enumerate([\"b\", \"g\", \"r\"]): # The specific order of OpenCV colors\n",
    "            path_img = path.join(input_dir, index+f\"_{color}.jpg\")\n",
    "            \n",
    "            merged_img = cv.imread(path_img)\n",
    "            \n",
    "            dict_with_channels[num] = merged_img[:, :, num]\n",
    "        \n",
    "        for num_channel in range(0, 3):\n",
    "            merged_img[:, :, num_channel] = dict_with_channels[num_channel]\n",
    "            \n",
    "        cv.imwrite(path.join(output_dir, index+\".jpg\"), merged_img) # Saving the final image"
   ]
  },
  {
   "cell_type": "code",
   "execution_count": 3,
   "id": "c94c5f59-4276-4e58-8d66-6f90b7034e85",
   "metadata": {},
   "outputs": [
    {
     "data": {
      "application/vnd.jupyter.widget-view+json": {
       "model_id": "218bffd13e434e8ba749fcbe7981fc27",
       "version_major": 2,
       "version_minor": 0
      },
      "text/plain": [
       "  0%|          | 0/300 [00:00<?, ?it/s]"
      ]
     },
     "metadata": {},
     "output_type": "display_data"
    },
    {
     "data": {
      "text/plain": [
       "100"
      ]
     },
     "execution_count": 3,
     "metadata": {},
     "output_type": "execute_result"
    }
   ],
   "source": [
    "input_dir = path.join(base_path, \"resources\\data\")\n",
    "output_dir = path.join(base_path, \"resources\\merged_data\")\n",
    "\n",
    "merge_channels(input_dir, output_dir)\n",
    "\n",
    "len(os.listdir(output_dir))"
   ]
  }
 ],
 "metadata": {
  "kernelspec": {
   "display_name": "Python 3 (ipykernel)",
   "language": "python",
   "name": "python3"
  },
  "language_info": {
   "codemirror_mode": {
    "name": "ipython",
    "version": 3
   },
   "file_extension": ".py",
   "mimetype": "text/x-python",
   "name": "python",
   "nbconvert_exporter": "python",
   "pygments_lexer": "ipython3",
   "version": "3.8.11"
  }
 },
 "nbformat": 4,
 "nbformat_minor": 5
}
