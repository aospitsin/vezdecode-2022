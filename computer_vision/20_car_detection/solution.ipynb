{
 "cells": [
  {
   "cell_type": "markdown",
   "id": "d0991247",
   "metadata": {},
   "source": [
    "# Import libraries"
   ]
  },
  {
   "cell_type": "code",
   "execution_count": 1,
   "id": "f159b46f-02e8-486c-bbba-41bfe1862ac6",
   "metadata": {},
   "outputs": [],
   "source": [
    "%matplotlib inline\n",
    "\n",
    "import torch\n",
    "import torchvision\n",
    "import imageio\n",
    "import pandas as pd\n",
    "import os\n",
    "import matplotlib.pyplot as plt\n",
    "\n",
    "from tqdm.notebook import tqdm\n",
    "from os import path\n",
    "\n",
    "base_path = \"D:\\Vezdecode\\CV\\CV20\""
   ]
  },
  {
   "cell_type": "markdown",
   "id": "cddc36fb",
   "metadata": {},
   "source": [
    "# Detection car"
   ]
  },
  {
   "cell_type": "code",
   "execution_count": 2,
   "id": "d58dbf28-42e1-4816-b2c7-3d018f803a87",
   "metadata": {
    "tags": []
   },
   "outputs": [],
   "source": [
    "def parser_result(result):\n",
    "    pred = result.pred[0]\n",
    "    names = result.names\n",
    "    \n",
    "    s = \"\"\n",
    "    if pred.shape[0]:\n",
    "        for c in pred[:, -1].unique():\n",
    "            n = (pred[:, -1] == c).sum()  # Detections per class\n",
    "            s += f\"{names[int(c)]}, \"  # Add to string\n",
    "    else:\n",
    "        s += \"(no detections)\"\n",
    "        \n",
    "    return s\n",
    "\n",
    "def find_car(input_dir:str, output_cars:str=\"output.csv\"):\n",
    "    files = [path.join(input_dir, img) for img in os.listdir(input_dir)]\n",
    "    \n",
    "    result_df = pd.DataFrame(columns=[\"image\", \"is_car\"])\n",
    "    name_images = [] # A list for saving image names\n",
    "    preds_is_car = [] # A list for saving the prediction of the presence of a car in the image\n",
    "    \n",
    "    model = torch.hub.load(\"ultralytics/yolov5\", \"yolov5s\")\n",
    "    \n",
    "    for img in tqdm(files):\n",
    "        name_images.append(img.split(\"\\\\\")[-1])\n",
    "        \n",
    "        image = imageio.imread(img)\n",
    "        result = model(image)\n",
    "        pred = parser_result(result)\n",
    "        \n",
    "        if \"car\" in pred or \"truck\" in pred or \"bus\" in pred:\n",
    "            preds_is_car.append(True)\n",
    "        else:\n",
    "            preds_is_car.append(False)\n",
    "    \n",
    "    result_df[\"image\"] = name_images\n",
    "    result_df[\"is_car\"] = preds_is_car\n",
    "            \n",
    "    result_df.to_csv(output_cars, index=False, header=False)\n",
    "    \n",
    "    return result_df"
   ]
  },
  {
   "cell_type": "code",
   "execution_count": 3,
   "id": "c9d41ea9-a3fa-4f03-ab29-1d9f95c0a357",
   "metadata": {
    "tags": []
   },
   "outputs": [
    {
     "name": "stderr",
     "output_type": "stream",
     "text": [
      "Using cache found in C:\\Users\\USER/.cache\\torch\\hub\\ultralytics_yolov5_master\n",
      "YOLOv5  2022-6-18 Python-3.8.11 torch-1.10.1+cu113 CUDA:0 (NVIDIA GeForce GTX 1050, 3072MiB)\n",
      "\n",
      "Fusing layers... \n",
      "YOLOv5s summary: 213 layers, 7225885 parameters, 0 gradients\n",
      "Adding AutoShape... \n"
     ]
    },
    {
     "data": {
      "application/vnd.jupyter.widget-view+json": {
       "model_id": "8768123c0c954624a296d6d0f37f5d17",
       "version_major": 2,
       "version_minor": 0
      },
      "text/plain": [
       "  0%|          | 0/100 [00:00<?, ?it/s]"
      ]
     },
     "metadata": {},
     "output_type": "display_data"
    }
   ],
   "source": [
    "input_dir = path.join(base_path, \"resources\\merged_data\")\n",
    "\n",
    "output_df = find_car(input_dir, \"output.csv\")"
   ]
  },
  {
   "cell_type": "code",
   "execution_count": 4,
   "id": "2ea0837a-fb13-4883-8b4a-f1bc3e925757",
   "metadata": {},
   "outputs": [
    {
     "data": {
      "text/html": [
       "<div>\n",
       "<style scoped>\n",
       "    .dataframe tbody tr th:only-of-type {\n",
       "        vertical-align: middle;\n",
       "    }\n",
       "\n",
       "    .dataframe tbody tr th {\n",
       "        vertical-align: top;\n",
       "    }\n",
       "\n",
       "    .dataframe thead th {\n",
       "        text-align: right;\n",
       "    }\n",
       "</style>\n",
       "<table border=\"1\" class=\"dataframe\">\n",
       "  <thead>\n",
       "    <tr style=\"text-align: right;\">\n",
       "      <th></th>\n",
       "      <th>image</th>\n",
       "      <th>is_car</th>\n",
       "    </tr>\n",
       "  </thead>\n",
       "  <tbody>\n",
       "    <tr>\n",
       "      <th>0</th>\n",
       "      <td>00001.jpg</td>\n",
       "      <td>False</td>\n",
       "    </tr>\n",
       "    <tr>\n",
       "      <th>1</th>\n",
       "      <td>00002.jpg</td>\n",
       "      <td>False</td>\n",
       "    </tr>\n",
       "    <tr>\n",
       "      <th>2</th>\n",
       "      <td>00003.jpg</td>\n",
       "      <td>True</td>\n",
       "    </tr>\n",
       "    <tr>\n",
       "      <th>3</th>\n",
       "      <td>00004.jpg</td>\n",
       "      <td>False</td>\n",
       "    </tr>\n",
       "    <tr>\n",
       "      <th>4</th>\n",
       "      <td>00005.jpg</td>\n",
       "      <td>True</td>\n",
       "    </tr>\n",
       "  </tbody>\n",
       "</table>\n",
       "</div>"
      ],
      "text/plain": [
       "       image  is_car\n",
       "0  00001.jpg   False\n",
       "1  00002.jpg   False\n",
       "2  00003.jpg    True\n",
       "3  00004.jpg   False\n",
       "4  00005.jpg    True"
      ]
     },
     "execution_count": 4,
     "metadata": {},
     "output_type": "execute_result"
    }
   ],
   "source": [
    "valid_target = pd.read_csv(\n",
    "    path.join(base_path, \"resources\\\\val.csv\"), \n",
    "    header=None, names=[\"image\", \"is_car\"]\n",
    ")\n",
    "\n",
    "valid_target.head()"
   ]
  },
  {
   "cell_type": "code",
   "execution_count": 5,
   "id": "eb3c664a-8fc5-433a-a31a-645b00f85b13",
   "metadata": {},
   "outputs": [
    {
     "data": {
      "text/plain": [
       "19.5"
      ]
     },
     "execution_count": 5,
     "metadata": {},
     "output_type": "execute_result"
    }
   ],
   "source": [
    "K = sum(output_df[\"is_car\"] == valid_target[\"is_car\"])\n",
    "score = max (0, K - 60) * 20 / (100 - 60)\n",
    "score"
   ]
  }
 ],
 "metadata": {
  "kernelspec": {
   "display_name": "Python 3 (ipykernel)",
   "language": "python",
   "name": "python3"
  },
  "language_info": {
   "codemirror_mode": {
    "name": "ipython",
    "version": 3
   },
   "file_extension": ".py",
   "mimetype": "text/x-python",
   "name": "python",
   "nbconvert_exporter": "python",
   "pygments_lexer": "ipython3",
   "version": "3.8.11"
  }
 },
 "nbformat": 4,
 "nbformat_minor": 5
}
