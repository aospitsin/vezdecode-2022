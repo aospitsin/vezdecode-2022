{
 "cells": [
  {
   "cell_type": "markdown",
   "metadata": {
    "id": "MVHtoET-LcvS"
   },
   "source": [
    "# Import libraries"
   ]
  },
  {
   "cell_type": "code",
   "execution_count": 21,
   "metadata": {
    "id": "p-XucBuqLcvX",
    "tags": []
   },
   "outputs": [],
   "source": [
    "import numpy as np\n",
    "import pandas as pd\n",
    "\n",
    "from sklearn.cluster import KMeans\n",
    "from sklearn.metrics.pairwise import euclidean_distances\n",
    "\n",
    "from tqdm.notebook import tqdm"
   ]
  },
  {
   "cell_type": "markdown",
   "metadata": {},
   "source": [
    "# Loading data"
   ]
  },
  {
   "cell_type": "code",
   "execution_count": 2,
   "metadata": {
    "id": "ozk412cSLcva"
   },
   "outputs": [
    {
     "name": "stdout",
     "output_type": "stream",
     "text": [
      "<class 'pandas.core.frame.DataFrame'>\n",
      "RangeIndex: 7812 entries, 0 to 7811\n",
      "Data columns (total 2 columns):\n",
      " #   Column  Non-Null Count  Dtype  \n",
      "---  ------  --------------  -----  \n",
      " 0   x       7812 non-null   float64\n",
      " 1   y       7812 non-null   float64\n",
      "dtypes: float64(2)\n",
      "memory usage: 122.2 KB\n",
      "None\n"
     ]
    },
    {
     "data": {
      "text/html": [
       "<div>\n",
       "<style scoped>\n",
       "    .dataframe tbody tr th:only-of-type {\n",
       "        vertical-align: middle;\n",
       "    }\n",
       "\n",
       "    .dataframe tbody tr th {\n",
       "        vertical-align: top;\n",
       "    }\n",
       "\n",
       "    .dataframe thead th {\n",
       "        text-align: right;\n",
       "    }\n",
       "</style>\n",
       "<table border=\"1\" class=\"dataframe\">\n",
       "  <thead>\n",
       "    <tr style=\"text-align: right;\">\n",
       "      <th></th>\n",
       "      <th>x</th>\n",
       "      <th>y</th>\n",
       "    </tr>\n",
       "  </thead>\n",
       "  <tbody>\n",
       "    <tr>\n",
       "      <th>0</th>\n",
       "      <td>389.0</td>\n",
       "      <td>-770.0</td>\n",
       "    </tr>\n",
       "    <tr>\n",
       "      <th>1</th>\n",
       "      <td>338.0</td>\n",
       "      <td>-844.0</td>\n",
       "    </tr>\n",
       "    <tr>\n",
       "      <th>2</th>\n",
       "      <td>455.0</td>\n",
       "      <td>-1227.0</td>\n",
       "    </tr>\n",
       "    <tr>\n",
       "      <th>3</th>\n",
       "      <td>408.0</td>\n",
       "      <td>-1119.0</td>\n",
       "    </tr>\n",
       "    <tr>\n",
       "      <th>4</th>\n",
       "      <td>334.0</td>\n",
       "      <td>-1121.0</td>\n",
       "    </tr>\n",
       "  </tbody>\n",
       "</table>\n",
       "</div>"
      ],
      "text/plain": [
       "       x       y\n",
       "0  389.0  -770.0\n",
       "1  338.0  -844.0\n",
       "2  455.0 -1227.0\n",
       "3  408.0 -1119.0\n",
       "4  334.0 -1121.0"
      ]
     },
     "execution_count": 2,
     "metadata": {},
     "output_type": "execute_result"
    }
   ],
   "source": [
    "#Прочитаем данные\n",
    "locations = pd.read_csv('locations.csv', sep=',')\n",
    "\n",
    "print(locations.info())\n",
    "locations.head()"
   ]
  },
  {
   "cell_type": "markdown",
   "metadata": {},
   "source": [
    "# Finding the optimal number of clusters"
   ]
  },
  {
   "cell_type": "code",
   "execution_count": null,
   "metadata": {},
   "outputs": [],
   "source": [
    "def distance(x1, x2, y1, y2):   \n",
    "    return np.sqrt((x2 - x1)**2 + (y2 - y1)**2)"
   ]
  },
  {
   "cell_type": "code",
   "execution_count": 3,
   "metadata": {},
   "outputs": [
    {
     "name": "stdout",
     "output_type": "stream",
     "text": [
      "Для количества кластеров 100 метрика качества кластеризации равна 135536.0345908121\n",
      "Для количества кластеров 200 метрика качества кластеризации равна 83578.50270539003\n",
      "Для количества кластеров 300 метрика качества кластеризации равна 63160.41832941112\n",
      "Для количества кластеров 400 метрика качества кластеризации равна 50801.072113797316\n",
      "Для количества кластеров 500 метрика качества кластеризации равна 43230.989776511495\n",
      "Для количества кластеров 600 метрика качества кластеризации равна 37175.68178128163\n",
      "Для количества кластеров 700 метрика качества кластеризации равна 33011.07455645412\n",
      "Для количества кластеров 800 метрика качества кластеризации равна 29733.245121361804\n",
      "Для количества кластеров 900 метрика качества кластеризации равна 26617.953689952043\n",
      "Для количества кластеров 1000 метрика качества кластеризации равна 24318.940014913234\n"
     ]
    }
   ],
   "source": [
    "# Calculating the clustering quality metric\n",
    "metrics = []\n",
    "MAX_CLUSTERS = 1000\n",
    "\n",
    "for num_cluster in range(1, MAX_CLUSTERS + 1):\n",
    "    kmeans_model = KMeans(n_clusters=num_cluster, random_state=42).fit(locations)\n",
    "    centroids, labels = kmeans_model.cluster_centers_, kmeans_model.labels_\n",
    "    metric = 0\n",
    "    \n",
    "    for cluster_label in range(num_cluster):\n",
    "        metric += euclidean_distances(\n",
    "            locations[labels==cluster_label],\n",
    "            centroids[cluster_label, :].reshape(1, -1)\n",
    "        ).sum(axis=0)[0]\n",
    "        \n",
    "        \n",
    "    if num_cluster % 100 == 0:\n",
    "        print(\"For the number of clusters %s, the clustering quality metric is %s\" % (num_cluster, metric))\n",
    "        \n",
    "    metrics.append(metric)"
   ]
  },
  {
   "cell_type": "code",
   "execution_count": 43,
   "metadata": {},
   "outputs": [
    {
     "name": "stdout",
     "output_type": "stream",
     "text": [
      "(Аналитически) Лучшее количество кластеров равно 997\n"
     ]
    }
   ],
   "source": [
    "# The elbow method\n",
    "import matplotlib.pyplot as plt\n",
    "\n",
    "# Analytical solution\n",
    "D = []\n",
    "for i in range(0, len(metrics) - 1):\n",
    "    d = np.abs(metrics[i+1] - metrics[i])/np.abs(metrics[i] - metrics[i-1])\n",
    "    D.append(d)\n",
    "    \n",
    "print(\"(Analytically) The best number of clusters is %s\" % (np.argmin(D) + 1))"
   ]
  },
  {
   "cell_type": "code",
   "execution_count": 6,
   "metadata": {
    "id": "1aeRzsS3VaGd"
   },
   "outputs": [
    {
     "data": {
      "text/plain": [
       "KMeans(n_clusters=997)"
      ]
     },
     "execution_count": 6,
     "metadata": {},
     "output_type": "execute_result"
    }
   ],
   "source": [
    "kmeans = KMeans(n_clusters=997)\n",
    "kmeans.fit(locations)"
   ]
  },
  {
   "cell_type": "markdown",
   "metadata": {},
   "source": [
    "### Расчет положения стендов"
   ]
  },
  {
   "cell_type": "code",
   "execution_count": 22,
   "metadata": {},
   "outputs": [
    {
     "data": {
      "application/vnd.jupyter.widget-view+json": {
       "model_id": "c6007735933742ed86af3612baeb0cd1",
       "version_major": 2,
       "version_minor": 0
      },
      "text/plain": [
       "  0%|          | 0/997 [00:00<?, ?it/s]"
      ]
     },
     "metadata": {},
     "output_type": "display_data"
    }
   ],
   "source": [
    "dict_clusters = {}\n",
    "\n",
    "clients = locations.values\n",
    "\n",
    "for center in tqdm(kmeans.cluster_centers_):\n",
    "    for ind, client in enumerate(clients):\n",
    "        if distance(center[0], client[0], center[1], client[1]) <= 10:\n",
    "            if (center[0], center[1]) not in dict_clusters.keys():\n",
    "                dict_clusters[(center[0], center[1])] = 1\n",
    "            else:\n",
    "                dict_clusters[(center[0], center[1])] += 1\n",
    "            \n",
    "            np.delete(clients, ind)"
   ]
  },
  {
   "cell_type": "code",
   "execution_count": 34,
   "metadata": {},
   "outputs": [],
   "source": [
    "sorted_tuples = sorted(dict_clusters.items(), key=lambda item: item[1], reverse=True)\n",
    "sorted_dict = {k: v for k, v in sorted_tuples}"
   ]
  },
  {
   "cell_type": "code",
   "execution_count": 42,
   "metadata": {},
   "outputs": [],
   "source": [
    "stands = np.array([np.array(stand) for stand in list(sorted_dict.keys())[:15]])\n",
    "\n",
    "answer = pd.DataFrame(stands)\n",
    "answer.to_csv('answer.csv', index=False)"
   ]
  }
 ],
 "metadata": {
  "colab": {
   "collapsed_sections": [],
   "name": "ads_placement_part_1.ipynb",
   "provenance": []
  },
  "kernelspec": {
   "display_name": "Python 3 (ipykernel)",
   "language": "python",
   "name": "python3"
  },
  "language_info": {
   "codemirror_mode": {
    "name": "ipython",
    "version": 3
   },
   "file_extension": ".py",
   "mimetype": "text/x-python",
   "name": "python",
   "nbconvert_exporter": "python",
   "pygments_lexer": "ipython3",
   "version": "3.8.11"
  }
 },
 "nbformat": 4,
 "nbformat_minor": 4
}
