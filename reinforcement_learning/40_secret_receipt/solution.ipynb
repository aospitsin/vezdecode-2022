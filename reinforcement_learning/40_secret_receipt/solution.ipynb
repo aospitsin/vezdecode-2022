{
 "cells": [
  {
   "cell_type": "code",
   "execution_count": 1,
   "metadata": {
    "executionInfo": {
     "elapsed": 7,
     "status": "ok",
     "timestamp": 1655441806152,
     "user": {
      "displayName": "Юра Ерилов",
      "userId": "10372742388479500396"
     },
     "user_tz": -600
    },
    "id": "dsIrAea60UAX"
   },
   "outputs": [],
   "source": [
    "import pandas as pd\n",
    "import numpy as np\n",
    "from collections import OrderedDict, deque, Counter\n",
    "import matplotlib.pyplot as plt\n",
    "from tqdm import tqdm\n",
    "from random import randint\n",
    "import random\n",
    "\n",
    "random.seed(6)"
   ]
  },
  {
   "cell_type": "markdown",
   "metadata": {
    "id": "cV6Mz74PJM1N"
   },
   "source": [
    "ЧТОБЫ ПОЛУЧИТЬ 40 БАЛЛОВ, НЕОБХОДИМО СОЗДАТЬ ТАКОЙ \"РЕЦЕПТ\", КОТОРЫЙ В СРЕДНЕМ БУДЕТ ПРИНОСИТЬ 3 ЕДИНИЦЫ РАДОСТИ. ЕСЛИ ВАШ РЕЦЕПТ ПРИНОСИТ МЕНЬШЕ РАДОСТИ, ТО ВЫ ЗАРАБОТАЕТЕ МЕНЬШЕ ОЧКОВ, НО НЕ НОЛЬ :)"
   ]
  },
  {
   "cell_type": "code",
   "execution_count": 2,
   "metadata": {
    "executionInfo": {
     "elapsed": 452,
     "status": "ok",
     "timestamp": 1655441832360,
     "user": {
      "displayName": "Юра Ерилов",
      "userId": "10372742388479500396"
     },
     "user_tz": -600
    },
    "id": "d3cA2N9D0bKL"
   },
   "outputs": [],
   "source": [
    "# загрузим данные с диска\n",
    "history = pd.read_csv(\"history.csv\")\n",
    "example_submit = pd.read_csv(\"example_answer.csv\")"
   ]
  },
  {
   "cell_type": "code",
   "execution_count": 3,
   "metadata": {
    "id": "L6WEa9TJOeg_"
   },
   "outputs": [
    {
     "data": {
      "text/html": [
       "<div>\n",
       "<style scoped>\n",
       "    .dataframe tbody tr th:only-of-type {\n",
       "        vertical-align: middle;\n",
       "    }\n",
       "\n",
       "    .dataframe tbody tr th {\n",
       "        vertical-align: top;\n",
       "    }\n",
       "\n",
       "    .dataframe thead th {\n",
       "        text-align: right;\n",
       "    }\n",
       "</style>\n",
       "<table border=\"1\" class=\"dataframe\">\n",
       "  <thead>\n",
       "    <tr style=\"text-align: right;\">\n",
       "      <th></th>\n",
       "      <th>state</th>\n",
       "      <th>action0</th>\n",
       "      <th>action1</th>\n",
       "      <th>action2</th>\n",
       "    </tr>\n",
       "  </thead>\n",
       "  <tbody>\n",
       "    <tr>\n",
       "      <th>0</th>\n",
       "      <td>393a1</td>\n",
       "      <td>34</td>\n",
       "      <td>33</td>\n",
       "      <td>33</td>\n",
       "    </tr>\n",
       "    <tr>\n",
       "      <th>1</th>\n",
       "      <td>2c674</td>\n",
       "      <td>34</td>\n",
       "      <td>33</td>\n",
       "      <td>33</td>\n",
       "    </tr>\n",
       "    <tr>\n",
       "      <th>2</th>\n",
       "      <td>eb3be</td>\n",
       "      <td>34</td>\n",
       "      <td>33</td>\n",
       "      <td>33</td>\n",
       "    </tr>\n",
       "    <tr>\n",
       "      <th>3</th>\n",
       "      <td>5aca6</td>\n",
       "      <td>34</td>\n",
       "      <td>33</td>\n",
       "      <td>33</td>\n",
       "    </tr>\n",
       "    <tr>\n",
       "      <th>4</th>\n",
       "      <td>9512d</td>\n",
       "      <td>34</td>\n",
       "      <td>33</td>\n",
       "      <td>33</td>\n",
       "    </tr>\n",
       "  </tbody>\n",
       "</table>\n",
       "</div>"
      ],
      "text/plain": [
       "   state  action0  action1  action2\n",
       "0  393a1       34       33       33\n",
       "1  2c674       34       33       33\n",
       "2  eb3be       34       33       33\n",
       "3  5aca6       34       33       33\n",
       "4  9512d       34       33       33"
      ]
     },
     "execution_count": 3,
     "metadata": {},
     "output_type": "execute_result"
    }
   ],
   "source": [
    "example_submit.head()"
   ]
  },
  {
   "cell_type": "code",
   "execution_count": 4,
   "metadata": {
    "id": "TH603ceq0pCY"
   },
   "outputs": [
    {
     "name": "stdout",
     "output_type": "stream",
     "text": [
      "(1813, 4)\n"
     ]
    },
    {
     "data": {
      "text/html": [
       "<div>\n",
       "<style scoped>\n",
       "    .dataframe tbody tr th:only-of-type {\n",
       "        vertical-align: middle;\n",
       "    }\n",
       "\n",
       "    .dataframe tbody tr th {\n",
       "        vertical-align: top;\n",
       "    }\n",
       "\n",
       "    .dataframe thead th {\n",
       "        text-align: right;\n",
       "    }\n",
       "</style>\n",
       "<table border=\"1\" class=\"dataframe\">\n",
       "  <thead>\n",
       "    <tr style=\"text-align: right;\">\n",
       "      <th></th>\n",
       "      <th>state</th>\n",
       "      <th>action</th>\n",
       "      <th>reward</th>\n",
       "      <th>next_state</th>\n",
       "    </tr>\n",
       "  </thead>\n",
       "  <tbody>\n",
       "    <tr>\n",
       "      <th>0</th>\n",
       "      <td>785f3</td>\n",
       "      <td>1</td>\n",
       "      <td>-5</td>\n",
       "      <td>785f3</td>\n",
       "    </tr>\n",
       "    <tr>\n",
       "      <th>1</th>\n",
       "      <td>0c75c</td>\n",
       "      <td>0</td>\n",
       "      <td>-1</td>\n",
       "      <td>da287</td>\n",
       "    </tr>\n",
       "    <tr>\n",
       "      <th>2</th>\n",
       "      <td>aa820</td>\n",
       "      <td>2</td>\n",
       "      <td>-1</td>\n",
       "      <td>aa820</td>\n",
       "    </tr>\n",
       "    <tr>\n",
       "      <th>3</th>\n",
       "      <td>e52d0</td>\n",
       "      <td>1</td>\n",
       "      <td>-2</td>\n",
       "      <td>e52d0</td>\n",
       "    </tr>\n",
       "    <tr>\n",
       "      <th>4</th>\n",
       "      <td>3055e</td>\n",
       "      <td>1</td>\n",
       "      <td>-2</td>\n",
       "      <td>3055e</td>\n",
       "    </tr>\n",
       "  </tbody>\n",
       "</table>\n",
       "</div>"
      ],
      "text/plain": [
       "   state  action  reward next_state\n",
       "0  785f3       1      -5      785f3\n",
       "1  0c75c       0      -1      da287\n",
       "2  aa820       2      -1      aa820\n",
       "3  e52d0       1      -2      e52d0\n",
       "4  3055e       1      -2      3055e"
      ]
     },
     "execution_count": 4,
     "metadata": {},
     "output_type": "execute_result"
    }
   ],
   "source": [
    "print(history.shape)\n",
    "history.head()"
   ]
  },
  {
   "cell_type": "code",
   "execution_count": 5,
   "metadata": {
    "executionInfo": {
     "elapsed": 436,
     "status": "ok",
     "timestamp": 1655441877514,
     "user": {
      "displayName": "Юра Ерилов",
      "userId": "10372742388479500396"
     },
     "user_tz": -600
    },
    "id": "Hm8laVeQIulI"
   },
   "outputs": [],
   "source": [
    "ind2state = {}\n",
    "state2ind = {}\n",
    "\n",
    "# сформируем вспомогательные словари индексов и состояний\n",
    "for i, state in enumerate(np.unique(history.state.values)):\n",
    "    ind2state[i] = state\n",
    "    state2ind[state] = i"
   ]
  },
  {
   "cell_type": "code",
   "execution_count": 6,
   "metadata": {
    "id": "m-MgNd4VDH07"
   },
   "outputs": [
    {
     "name": "stderr",
     "output_type": "stream",
     "text": [
      "100%|███████████████████████████████████████████████████████████████████████████████| 610/610 [00:03<00:00, 160.99it/s]\n"
     ]
    }
   ],
   "source": [
    "# класс окружения (дневник Даши), с которым будет взаимодействовать агент\n",
    "\n",
    "class environment:\n",
    "    def __init__(self, history):\n",
    "        self.states = history['state'].unique()\n",
    "        self.env = {}\n",
    "        \n",
    "        # преобразуем историю Даши к словарю вида: \n",
    "        # состояние: {номер_действия: [детерминированная_вероятность_перехода, следующее_состояние, вознаграждение], ...}, ...\n",
    "        for state in tqdm(self.states):\n",
    "            next_states = history[history['state'] == state].drop_duplicates()\n",
    "\n",
    "            self.env[state] = {}\n",
    "            try:\n",
    "                self.env[state][0] = [1.0, next_states[next_states['action'] == 0]['next_state'].values[0], int(next_states[next_states['action'] == 0]['reward'].values)]\n",
    "            except:\n",
    "                self.env[state][0] = [0.0, state, -100]\n",
    "\n",
    "            try:\n",
    "                self.env[state][1] = [1.0, next_states[next_states['action'] == 1]['next_state'].values[0], int(next_states[next_states['action'] == 1]['reward'].values)]\n",
    "            except:\n",
    "                self.env[state][1] = [0.0, state, -100]\n",
    "\n",
    "            try:\n",
    "                self.env[state][2] = [1.0, next_states[next_states['action'] == 2]['next_state'].values[0], int(next_states[next_states['action'] == 2]['reward'].values)]\n",
    "            except:\n",
    "                self.env[state][2] = [0.0, state, -100]\n",
    "\n",
    "        self.cur_state = self.states[0]\n",
    "\n",
    "    def reset(self, state=None):\n",
    "    # необходимо реализовать функцию, которая будет изменять текущее состояние случайным образом на одно из возможных состояний (если state != None, то заменяет текущее состояние на аргумент функции)\n",
    "        if state != None:\n",
    "            self.cur_state = state\n",
    "        else:\n",
    "            self.cur_state = ind2state[np.random.randint(0, len(self.states))]\n",
    "\n",
    "        return self.cur_state\n",
    "\n",
    "    def sample(self):\n",
    "        # функция, имитирующая случайное блуждание по состояниям\n",
    "        p0 = self.env[self.cur_state][0][0]\n",
    "        p1 = self.env[self.cur_state][1][0]\n",
    "        p2 = self.env[self.cur_state][2][0]\n",
    "\n",
    "        if p0 == 0:\n",
    "            action = np.random.choice(np.arange(0, 3), p=[0., 0.5, 0.5])\n",
    "        elif p1 == 0:\n",
    "            action = np.random.choice(np.arange(0, 3), p=[0.5, 0., 0.5])      \n",
    "        elif p2 == 0:\n",
    "            action = np.random.choice(np.arange(0, 3), p=[0.5, 0.5, 0.])\n",
    "        else:\n",
    "            action = np.random.choice(np.arange(0, 3), p=[0.34, 0.33, 0.33])\n",
    "\n",
    "        return action\n",
    "\n",
    "    def step(self, action):\n",
    "    # реализуйте функцию, которая изменяет состояние и возвращает вознаграждение в зависимости от текущего состояния и предпринятого действия агента. Не забудьте изменить состояние, в котором находится агент\n",
    "        reward = self.env[self.cur_state][action][-1]\n",
    "        next_state = self.env[self.cur_state][action][-2]\n",
    "\n",
    "        self.reset(next_state)\n",
    "\n",
    "        return next_state, reward\n",
    "\n",
    "env = environment(history)"
   ]
  },
  {
   "cell_type": "code",
   "execution_count": 7,
   "metadata": {
    "executionInfo": {
     "elapsed": 3,
     "status": "ok",
     "timestamp": 1655442536503,
     "user": {
      "displayName": "Юра Ерилов",
      "userId": "10372742388479500396"
     },
     "user_tz": -600
    },
    "id": "Pm2GxY1G9dSu"
   },
   "outputs": [],
   "source": [
    "import numpy as np\n",
    "\n",
    "# создайте рецепт, который агент будет составлять на основе дневника. Он представляет собой таблицу, как example_submit, инициализированную нулями.\n",
    "# агент должен будет в процессе обучения выучить вероятности действий, которые надо выполнять, находясь в конкретном состоянии, для получения максимального вознаграждения.\n",
    "# Такая таблица как раз и нужна Маше, чтобы знать, что делать и в какой ситуации.\n",
    "q_table = np.zeros([610, 3])"
   ]
  },
  {
   "cell_type": "code",
   "execution_count": 8,
   "metadata": {
    "id": "yjTmDz7J9wm1"
   },
   "outputs": [
    {
     "name": "stderr",
     "output_type": "stream",
     "text": [
      "100%|███████████████████████████████████████████████████████████████████████████| 60000/60000 [03:22<00:00, 296.06it/s]"
     ]
    },
    {
     "name": "stdout",
     "output_type": "stream",
     "text": [
      "Episode: 60000\n",
      "Training finished.\n",
      "\n"
     ]
    },
    {
     "name": "stderr",
     "output_type": "stream",
     "text": [
      "\n"
     ]
    }
   ],
   "source": [
    "\"\"\"Обучение агента\"\"\"\n",
    "\n",
    "# Маше очень грустно, тк всё, что она сейчас имеет, это таблица равновероятных действий в любой ситуации. Скорее обучите агента!\n",
    "import random\n",
    "from IPython.display import clear_output\n",
    "\n",
    "def egreedy_policy(q_table, state, epsilon=0.1):  \n",
    "    if np.random.random() < epsilon:\n",
    "        return np.random.choice(3)\n",
    "    else:\n",
    "        return np.argmax(q_table[state2ind[state]])\n",
    "\n",
    "# Гиперпараметры\n",
    "# Исследуйте и пробуйте!\n",
    "alpha = 0.3 # \n",
    "gamma = 0.99 # \n",
    "epsilon = 0.3 # \n",
    "\n",
    "for i in tqdm(range(1, 60001)): # не изменяйте количество итераций по дневнику\n",
    "    state = env.reset()\n",
    "    \n",
    "    epochs, reward, = 0, 0\n",
    "    while epochs < 100: # не изменяйте количество переходов\n",
    "\n",
    "        # Choose action        \n",
    "        action = egreedy_policy(q_table, state, epsilon=epsilon)\n",
    "        \n",
    "        # Do the action\n",
    "        next_state, reward = env.step(action)\n",
    "        \n",
    "        # Update q_table \n",
    "        td_target = reward + gamma * np.max(q_table[state2ind[next_state]])\n",
    "        td_error = td_target - q_table[state2ind[state]][action]\n",
    "        q_table[state2ind[state]][action] += alpha * td_error\n",
    "        \n",
    "        # Update state\n",
    "        state = next_state\n",
    "\n",
    "        epochs += 1\n",
    "        \n",
    "    if i % 100 == 0:\n",
    "        clear_output(wait=True)\n",
    "        print(f\"Episode: {i}\")\n",
    "\n",
    "print(\"Training finished.\\n\")"
   ]
  },
  {
   "cell_type": "code",
   "execution_count": 9,
   "metadata": {
    "id": "aK3WHh5XH3k6"
   },
   "outputs": [
    {
     "name": "stderr",
     "output_type": "stream",
     "text": [
      "100%|████████████████████████████████████████████████████████████████████████████████| 610/610 [04:38<00:00,  2.19it/s]"
     ]
    },
    {
     "name": "stdout",
     "output_type": "stream",
     "text": [
      "Average rewards per episode: -3.1842003278688527\n"
     ]
    },
    {
     "name": "stderr",
     "output_type": "stream",
     "text": [
      "\n"
     ]
    }
   ],
   "source": [
    "\"\"\"Посмотрим какое вознаграждение в среднем нам дает случайное блуждание\"\"\"\n",
    "total_penalties = 0\n",
    "episodes = 100\n",
    "\n",
    "for state in tqdm(env.states):\n",
    "    state = env.reset(state)\n",
    "    for _ in range(episodes):\n",
    "        epochs, penalties, reward = 0, 0, 0\n",
    "        \n",
    "        while epochs < 100:\n",
    "            action = env.sample()\n",
    "            state, reward = env.step(action)\n",
    "\n",
    "            epochs += 1\n",
    "\n",
    "            penalties += reward\n",
    "\n",
    "        total_penalties += penalties\n",
    "\n",
    "# в среднем оно приносит -3 единицы радости, т.е. Маша становится несчастна после такого рецепта. Нам он не подходит :(\n",
    "print(f\"Average rewards per episode: {total_penalties / (len(env.states) * episodes * 100)}\")"
   ]
  },
  {
   "cell_type": "code",
   "execution_count": 10,
   "metadata": {
    "id": "aeTGuFXoHSe5"
   },
   "outputs": [
    {
     "name": "stderr",
     "output_type": "stream",
     "text": [
      "100%|████████████████████████████████████████████████████████████████████████████████| 610/610 [00:37<00:00, 16.44it/s]"
     ]
    },
    {
     "name": "stdout",
     "output_type": "stream",
     "text": [
      "Average rewards per state: 3.9453060655737704\n"
     ]
    },
    {
     "name": "stderr",
     "output_type": "stream",
     "text": [
      "\n"
     ]
    }
   ],
   "source": [
    "\"\"\"Посмотрим, какое среднее вознаграждение получается, если использовать q-таблицу\"\"\"\n",
    "total_penalties = 0\n",
    "episodes = 100\n",
    "\n",
    "for state in tqdm(env.states):\n",
    "    state = env.reset(state)\n",
    "    for _ in range(episodes):\n",
    "        epochs, penalties, reward = 0, 0, 0\n",
    "        while epochs < 100:\n",
    "            action = np.argmax(q_table[state2ind[state]])\n",
    "            state, reward = env.step(action)\n",
    "\n",
    "            epochs += 1\n",
    "\n",
    "            penalties += reward\n",
    "\n",
    "        total_penalties += penalties\n",
    "\n",
    "# Чем больше, тем лучше! Но на 3 единицах радости можно будет остановиться\n",
    "print(f\"Average rewards per state: {total_penalties / (len(env.states) * episodes * 100)}\")"
   ]
  },
  {
   "cell_type": "code",
   "execution_count": 18,
   "metadata": {
    "id": "_n3YAXZRKdgC"
   },
   "outputs": [],
   "source": [
    "# сделайте так, чтобы вероятность наиболее вероятного действия равнялась 100, а остальные действия занулите\n",
    "submission = pd.DataFrame(q_table, columns=['action0', 'action1', 'action2'])\n",
    "submission['state'] = submission.index\n",
    "submission['state'] = submission['state'].replace(ind2state)\n",
    "submission = submission[['state','action0', 'action1', 'action2']]"
   ]
  },
  {
   "cell_type": "code",
   "execution_count": 20,
   "metadata": {},
   "outputs": [],
   "source": [
    "submission.to_csv('Q_table.csv', index=False)"
   ]
  },
  {
   "cell_type": "code",
   "execution_count": 22,
   "metadata": {},
   "outputs": [
    {
     "data": {
      "text/html": [
       "<div>\n",
       "<style scoped>\n",
       "    .dataframe tbody tr th:only-of-type {\n",
       "        vertical-align: middle;\n",
       "    }\n",
       "\n",
       "    .dataframe tbody tr th {\n",
       "        vertical-align: top;\n",
       "    }\n",
       "\n",
       "    .dataframe thead th {\n",
       "        text-align: right;\n",
       "    }\n",
       "</style>\n",
       "<table border=\"1\" class=\"dataframe\">\n",
       "  <thead>\n",
       "    <tr style=\"text-align: right;\">\n",
       "      <th></th>\n",
       "      <th>state</th>\n",
       "      <th>action0</th>\n",
       "      <th>action1</th>\n",
       "      <th>action2</th>\n",
       "    </tr>\n",
       "  </thead>\n",
       "  <tbody>\n",
       "    <tr>\n",
       "      <th>0</th>\n",
       "      <td>0038d</td>\n",
       "      <td>34</td>\n",
       "      <td>33</td>\n",
       "      <td>33</td>\n",
       "    </tr>\n",
       "    <tr>\n",
       "      <th>1</th>\n",
       "      <td>0087c</td>\n",
       "      <td>35</td>\n",
       "      <td>34</td>\n",
       "      <td>32</td>\n",
       "    </tr>\n",
       "    <tr>\n",
       "      <th>2</th>\n",
       "      <td>01299</td>\n",
       "      <td>34</td>\n",
       "      <td>33</td>\n",
       "      <td>33</td>\n",
       "    </tr>\n",
       "    <tr>\n",
       "      <th>3</th>\n",
       "      <td>02176</td>\n",
       "      <td>34</td>\n",
       "      <td>33</td>\n",
       "      <td>33</td>\n",
       "    </tr>\n",
       "    <tr>\n",
       "      <th>4</th>\n",
       "      <td>02384</td>\n",
       "      <td>34</td>\n",
       "      <td>33</td>\n",
       "      <td>33</td>\n",
       "    </tr>\n",
       "    <tr>\n",
       "      <th>...</th>\n",
       "      <td>...</td>\n",
       "      <td>...</td>\n",
       "      <td>...</td>\n",
       "      <td>...</td>\n",
       "    </tr>\n",
       "    <tr>\n",
       "      <th>605</th>\n",
       "      <td>fc56d</td>\n",
       "      <td>34</td>\n",
       "      <td>33</td>\n",
       "      <td>33</td>\n",
       "    </tr>\n",
       "    <tr>\n",
       "      <th>606</th>\n",
       "      <td>fc71f</td>\n",
       "      <td>34</td>\n",
       "      <td>33</td>\n",
       "      <td>33</td>\n",
       "    </tr>\n",
       "    <tr>\n",
       "      <th>607</th>\n",
       "      <td>fdb99</td>\n",
       "      <td>34</td>\n",
       "      <td>33</td>\n",
       "      <td>33</td>\n",
       "    </tr>\n",
       "    <tr>\n",
       "      <th>608</th>\n",
       "      <td>fde3f</td>\n",
       "      <td>34</td>\n",
       "      <td>33</td>\n",
       "      <td>33</td>\n",
       "    </tr>\n",
       "    <tr>\n",
       "      <th>609</th>\n",
       "      <td>ff108</td>\n",
       "      <td>34</td>\n",
       "      <td>33</td>\n",
       "      <td>33</td>\n",
       "    </tr>\n",
       "  </tbody>\n",
       "</table>\n",
       "<p>610 rows × 4 columns</p>\n",
       "</div>"
      ],
      "text/plain": [
       "     state  action0  action1  action2\n",
       "0    0038d       34       33       33\n",
       "1    0087c       35       34       32\n",
       "2    01299       34       33       33\n",
       "3    02176       34       33       33\n",
       "4    02384       34       33       33\n",
       "..     ...      ...      ...      ...\n",
       "605  fc56d       34       33       33\n",
       "606  fc71f       34       33       33\n",
       "607  fdb99       34       33       33\n",
       "608  fde3f       34       33       33\n",
       "609  ff108       34       33       33\n",
       "\n",
       "[610 rows x 4 columns]"
      ]
     },
     "execution_count": 22,
     "metadata": {},
     "output_type": "execute_result"
    }
   ],
   "source": [
    "submission[submission.columns[1:]] = submission[submission.columns[1:]].apply(lambda x: round((x / sum(x))*100), axis=1).astype(\"int\")\n",
    "submission.to_csv('answer.csv', index=False)\n",
    "submission"
   ]
  },
  {
   "cell_type": "markdown",
   "metadata": {
    "id": "n9s2PrieU0R_"
   },
   "source": [
    "# Детерминированный алгоритм переходов"
   ]
  },
  {
   "cell_type": "code",
   "execution_count": 23,
   "metadata": {},
   "outputs": [
    {
     "data": {
      "text/html": [
       "<div>\n",
       "<style scoped>\n",
       "    .dataframe tbody tr th:only-of-type {\n",
       "        vertical-align: middle;\n",
       "    }\n",
       "\n",
       "    .dataframe tbody tr th {\n",
       "        vertical-align: top;\n",
       "    }\n",
       "\n",
       "    .dataframe thead th {\n",
       "        text-align: right;\n",
       "    }\n",
       "</style>\n",
       "<table border=\"1\" class=\"dataframe\">\n",
       "  <thead>\n",
       "    <tr style=\"text-align: right;\">\n",
       "      <th></th>\n",
       "      <th>state</th>\n",
       "      <th>action0</th>\n",
       "      <th>action1</th>\n",
       "      <th>action2</th>\n",
       "    </tr>\n",
       "  </thead>\n",
       "  <tbody>\n",
       "    <tr>\n",
       "      <th>0</th>\n",
       "      <td>0038d</td>\n",
       "      <td>100</td>\n",
       "      <td>0</td>\n",
       "      <td>0</td>\n",
       "    </tr>\n",
       "    <tr>\n",
       "      <th>1</th>\n",
       "      <td>0087c</td>\n",
       "      <td>100</td>\n",
       "      <td>0</td>\n",
       "      <td>0</td>\n",
       "    </tr>\n",
       "    <tr>\n",
       "      <th>2</th>\n",
       "      <td>01299</td>\n",
       "      <td>100</td>\n",
       "      <td>0</td>\n",
       "      <td>0</td>\n",
       "    </tr>\n",
       "    <tr>\n",
       "      <th>3</th>\n",
       "      <td>02176</td>\n",
       "      <td>100</td>\n",
       "      <td>0</td>\n",
       "      <td>0</td>\n",
       "    </tr>\n",
       "    <tr>\n",
       "      <th>4</th>\n",
       "      <td>02384</td>\n",
       "      <td>100</td>\n",
       "      <td>0</td>\n",
       "      <td>0</td>\n",
       "    </tr>\n",
       "  </tbody>\n",
       "</table>\n",
       "</div>"
      ],
      "text/plain": [
       "   state  action0  action1  action2\n",
       "0  0038d      100        0        0\n",
       "1  0087c      100        0        0\n",
       "2  01299      100        0        0\n",
       "3  02176      100        0        0\n",
       "4  02384      100        0        0"
      ]
     },
     "execution_count": 23,
     "metadata": {},
     "output_type": "execute_result"
    }
   ],
   "source": [
    "marks = submission[submission.columns[1:]].apply(lambda x: [100 if p == max(x) else 0 for p in x], axis=1)\n",
    "\n",
    "action_0, action_1, action_2 = [], [], []\n",
    "for mark in marks:\n",
    "    action_0.append(mark[0])\n",
    "    action_1.append(mark[1])\n",
    "    action_2.append(mark[2])\n",
    "    \n",
    "submission[\"action0\"] = action_0\n",
    "submission[\"action1\"] = action_1\n",
    "submission[\"action2\"] = action_2\n",
    "\n",
    "submission.to_csv('determine_submit.csv', index=False)\n",
    "\n",
    "# ответ должен быть такого формата:\n",
    "submission.head()"
   ]
  }
 ],
 "metadata": {
  "colab": {
   "authorship_tag": "ABX9TyPTrFidGldtXjfEEn3LoiUx",
   "collapsed_sections": [],
   "mount_file_id": "1NTIIFIWxUQPklQQJb5McT7QEz5LMpW4K",
   "name": "secret_receipt.ipynb",
   "provenance": []
  },
  "kernelspec": {
   "display_name": "Python 3 (ipykernel)",
   "language": "python",
   "name": "python3"
  },
  "language_info": {
   "codemirror_mode": {
    "name": "ipython",
    "version": 3
   },
   "file_extension": ".py",
   "mimetype": "text/x-python",
   "name": "python",
   "nbconvert_exporter": "python",
   "pygments_lexer": "ipython3",
   "version": "3.8.11"
  }
 },
 "nbformat": 4,
 "nbformat_minor": 4
}
